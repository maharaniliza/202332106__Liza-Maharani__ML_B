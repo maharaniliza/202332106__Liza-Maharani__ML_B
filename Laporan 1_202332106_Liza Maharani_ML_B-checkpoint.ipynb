{
 "cells": [
  {
   "cell_type": "markdown",
   "id": "fff745e4-c5c9-46c5-a546-a401578acbdc",
   "metadata": {},
   "source": [
    "## Liza Maharani_202332106_B"
   ]
  },
  {
   "cell_type": "code",
   "execution_count": 1,
   "id": "f0aec261-da4f-4b58-836b-9e3a6dc7ec6b",
   "metadata": {},
   "outputs": [],
   "source": [
    "#Import library\n",
    "import numpy as np\n",
    "import pandas as pd\n",
    "import matplotlib.pyplot as plt\n",
    "import seaborn as sns"
   ]
  },
  {
   "cell_type": "raw",
   "id": "6f6f3125-3e66-4743-abaa-2487bb04f05d",
   "metadata": {},
   "source": [
    "di atas ini merupakan kode untuk menginport library python"
   ]
  },
  {
   "cell_type": "code",
   "execution_count": 4,
   "id": "50bf002e-9d58-4448-911e-01c1cca1be41",
   "metadata": {},
   "outputs": [],
   "source": [
    "df = pd.read_csv('botak.csv')"
   ]
  },
  {
   "cell_type": "raw",
   "id": "78a4b3c5-381e-49d3-9b09-a890c3454ed1",
   "metadata": {},
   "source": [
    "Kemudian kode di atas befungsi sebagai kode untuk membaca file yang bernams botak.csv"
   ]
  },
  {
   "cell_type": "code",
   "execution_count": 3,
   "id": "0c6d456c-b485-46f2-943d-7049ab0bb03d",
   "metadata": {},
   "outputs": [
    {
     "data": {
      "text/html": [
       "<div>\n",
       "<style scoped>\n",
       "    .dataframe tbody tr th:only-of-type {\n",
       "        vertical-align: middle;\n",
       "    }\n",
       "\n",
       "    .dataframe tbody tr th {\n",
       "        vertical-align: top;\n",
       "    }\n",
       "\n",
       "    .dataframe thead th {\n",
       "        text-align: right;\n",
       "    }\n",
       "</style>\n",
       "<table border=\"1\" class=\"dataframe\">\n",
       "  <thead>\n",
       "    <tr style=\"text-align: right;\">\n",
       "      <th></th>\n",
       "      <th>umur</th>\n",
       "      <th>jenis_kelamin</th>\n",
       "      <th>pekerjaan</th>\n",
       "      <th>provinsi</th>\n",
       "      <th>gaji</th>\n",
       "      <th>is_menikah</th>\n",
       "      <th>is_keturunan</th>\n",
       "      <th>berat</th>\n",
       "      <th>tinggi</th>\n",
       "      <th>sampo</th>\n",
       "      <th>is_merokok</th>\n",
       "      <th>pendidikan</th>\n",
       "      <th>botak_prob</th>\n",
       "    </tr>\n",
       "  </thead>\n",
       "  <tbody>\n",
       "    <tr>\n",
       "      <th>0</th>\n",
       "      <td>42.0</td>\n",
       "      <td>Laki-laki</td>\n",
       "      <td>PNS</td>\n",
       "      <td>Padang</td>\n",
       "      <td>7.864005e+06</td>\n",
       "      <td>0</td>\n",
       "      <td>0.0</td>\n",
       "      <td>61.928685</td>\n",
       "      <td>152.174164</td>\n",
       "      <td>Deadbuoy</td>\n",
       "      <td>1</td>\n",
       "      <td>S1</td>\n",
       "      <td>0.487655</td>\n",
       "    </tr>\n",
       "    <tr>\n",
       "      <th>1</th>\n",
       "      <td>33.0</td>\n",
       "      <td>Laki-laki</td>\n",
       "      <td>Pegawai swasta</td>\n",
       "      <td>Palangkaraya</td>\n",
       "      <td>6.492662e+06</td>\n",
       "      <td>0</td>\n",
       "      <td>0.0</td>\n",
       "      <td>49.374507</td>\n",
       "      <td>152.822969</td>\n",
       "      <td>Moonsilk</td>\n",
       "      <td>1</td>\n",
       "      <td>SMA</td>\n",
       "      <td>0.297270</td>\n",
       "    </tr>\n",
       "    <tr>\n",
       "      <th>2</th>\n",
       "      <td>59.0</td>\n",
       "      <td>Laki-laki</td>\n",
       "      <td>Freelance</td>\n",
       "      <td>Serang</td>\n",
       "      <td>8.086303e+06</td>\n",
       "      <td>1</td>\n",
       "      <td>0.0</td>\n",
       "      <td>59.072807</td>\n",
       "      <td>159.911047</td>\n",
       "      <td>Merpati</td>\n",
       "      <td>1</td>\n",
       "      <td>S1</td>\n",
       "      <td>0.467848</td>\n",
       "    </tr>\n",
       "    <tr>\n",
       "      <th>3</th>\n",
       "      <td>38.0</td>\n",
       "      <td>Laki-laki</td>\n",
       "      <td>Pegawai swasta</td>\n",
       "      <td>Gorontalo</td>\n",
       "      <td>1.147321e+07</td>\n",
       "      <td>0</td>\n",
       "      <td>1.0</td>\n",
       "      <td>68.338014</td>\n",
       "      <td>162.558997</td>\n",
       "      <td>Moonsilk</td>\n",
       "      <td>0</td>\n",
       "      <td>S1</td>\n",
       "      <td>0.616418</td>\n",
       "    </tr>\n",
       "    <tr>\n",
       "      <th>4</th>\n",
       "      <td>33.0</td>\n",
       "      <td>Perempuan</td>\n",
       "      <td>Freelance</td>\n",
       "      <td>Tanjungselor</td>\n",
       "      <td>1.475942e+07</td>\n",
       "      <td>0</td>\n",
       "      <td>0.0</td>\n",
       "      <td>53.769996</td>\n",
       "      <td>154.579510</td>\n",
       "      <td>Pantone</td>\n",
       "      <td>1</td>\n",
       "      <td>S2</td>\n",
       "      <td>0.115439</td>\n",
       "    </tr>\n",
       "    <tr>\n",
       "      <th>...</th>\n",
       "      <td>...</td>\n",
       "      <td>...</td>\n",
       "      <td>...</td>\n",
       "      <td>...</td>\n",
       "      <td>...</td>\n",
       "      <td>...</td>\n",
       "      <td>...</td>\n",
       "      <td>...</td>\n",
       "      <td>...</td>\n",
       "      <td>...</td>\n",
       "      <td>...</td>\n",
       "      <td>...</td>\n",
       "      <td>...</td>\n",
       "    </tr>\n",
       "    <tr>\n",
       "      <th>7986</th>\n",
       "      <td>31.0</td>\n",
       "      <td>Laki-laki</td>\n",
       "      <td>Pegawai swasta</td>\n",
       "      <td>Padang</td>\n",
       "      <td>2.911963e+07</td>\n",
       "      <td>0</td>\n",
       "      <td>0.0</td>\n",
       "      <td>83.272785</td>\n",
       "      <td>176.020857</td>\n",
       "      <td>Merpati</td>\n",
       "      <td>0</td>\n",
       "      <td>SMA</td>\n",
       "      <td>0.241525</td>\n",
       "    </tr>\n",
       "    <tr>\n",
       "      <th>7987</th>\n",
       "      <td>40.0</td>\n",
       "      <td>Perempuan</td>\n",
       "      <td>Pegawai swasta</td>\n",
       "      <td>Banjarmasin</td>\n",
       "      <td>8.955173e+06</td>\n",
       "      <td>0</td>\n",
       "      <td>0.0</td>\n",
       "      <td>61.634474</td>\n",
       "      <td>161.780773</td>\n",
       "      <td>Deadbuoy</td>\n",
       "      <td>0</td>\n",
       "      <td>S1</td>\n",
       "      <td>0.140971</td>\n",
       "    </tr>\n",
       "    <tr>\n",
       "      <th>7988</th>\n",
       "      <td>43.0</td>\n",
       "      <td>Perempuan</td>\n",
       "      <td>PNS</td>\n",
       "      <td>Mataram</td>\n",
       "      <td>4.022652e+06</td>\n",
       "      <td>0</td>\n",
       "      <td>0.0</td>\n",
       "      <td>50.525031</td>\n",
       "      <td>152.461656</td>\n",
       "      <td>Shoulder &amp; Head</td>\n",
       "      <td>1</td>\n",
       "      <td>S1</td>\n",
       "      <td>0.364456</td>\n",
       "    </tr>\n",
       "    <tr>\n",
       "      <th>7989</th>\n",
       "      <td>29.0</td>\n",
       "      <td>Laki-laki</td>\n",
       "      <td>Pegawai swasta</td>\n",
       "      <td>Serang</td>\n",
       "      <td>5.801753e+06</td>\n",
       "      <td>0</td>\n",
       "      <td>0.0</td>\n",
       "      <td>47.175270</td>\n",
       "      <td>152.749709</td>\n",
       "      <td>NaN</td>\n",
       "      <td>1</td>\n",
       "      <td>SMA</td>\n",
       "      <td>0.248910</td>\n",
       "    </tr>\n",
       "    <tr>\n",
       "      <th>7990</th>\n",
       "      <td>55.0</td>\n",
       "      <td>Laki-laki</td>\n",
       "      <td>Pegawai swasta</td>\n",
       "      <td>Padang</td>\n",
       "      <td>8.518947e+06</td>\n",
       "      <td>0</td>\n",
       "      <td>1.0</td>\n",
       "      <td>61.938728</td>\n",
       "      <td>163.998842</td>\n",
       "      <td>Merpati</td>\n",
       "      <td>1</td>\n",
       "      <td>SMA</td>\n",
       "      <td>0.838493</td>\n",
       "    </tr>\n",
       "  </tbody>\n",
       "</table>\n",
       "<p>7991 rows × 13 columns</p>\n",
       "</div>"
      ],
      "text/plain": [
       "      umur jenis_kelamin       pekerjaan      provinsi          gaji  \\\n",
       "0     42.0     Laki-laki             PNS        Padang  7.864005e+06   \n",
       "1     33.0     Laki-laki  Pegawai swasta  Palangkaraya  6.492662e+06   \n",
       "2     59.0     Laki-laki       Freelance        Serang  8.086303e+06   \n",
       "3     38.0     Laki-laki  Pegawai swasta     Gorontalo  1.147321e+07   \n",
       "4     33.0     Perempuan       Freelance  Tanjungselor  1.475942e+07   \n",
       "...    ...           ...             ...           ...           ...   \n",
       "7986  31.0     Laki-laki  Pegawai swasta        Padang  2.911963e+07   \n",
       "7987  40.0     Perempuan  Pegawai swasta   Banjarmasin  8.955173e+06   \n",
       "7988  43.0     Perempuan             PNS       Mataram  4.022652e+06   \n",
       "7989  29.0     Laki-laki  Pegawai swasta        Serang  5.801753e+06   \n",
       "7990  55.0     Laki-laki  Pegawai swasta        Padang  8.518947e+06   \n",
       "\n",
       "      is_menikah  is_keturunan      berat      tinggi            sampo  \\\n",
       "0              0           0.0  61.928685  152.174164         Deadbuoy   \n",
       "1              0           0.0  49.374507  152.822969         Moonsilk   \n",
       "2              1           0.0  59.072807  159.911047          Merpati   \n",
       "3              0           1.0  68.338014  162.558997         Moonsilk   \n",
       "4              0           0.0  53.769996  154.579510          Pantone   \n",
       "...          ...           ...        ...         ...              ...   \n",
       "7986           0           0.0  83.272785  176.020857          Merpati   \n",
       "7987           0           0.0  61.634474  161.780773         Deadbuoy   \n",
       "7988           0           0.0  50.525031  152.461656  Shoulder & Head   \n",
       "7989           0           0.0  47.175270  152.749709              NaN   \n",
       "7990           0           1.0  61.938728  163.998842          Merpati   \n",
       "\n",
       "      is_merokok pendidikan  botak_prob  \n",
       "0              1         S1    0.487655  \n",
       "1              1        SMA    0.297270  \n",
       "2              1         S1    0.467848  \n",
       "3              0         S1    0.616418  \n",
       "4              1         S2    0.115439  \n",
       "...          ...        ...         ...  \n",
       "7986           0        SMA    0.241525  \n",
       "7987           0         S1    0.140971  \n",
       "7988           1         S1    0.364456  \n",
       "7989           1        SMA    0.248910  \n",
       "7990           1        SMA    0.838493  \n",
       "\n",
       "[7991 rows x 13 columns]"
      ]
     },
     "execution_count": 3,
     "metadata": {},
     "output_type": "execute_result"
    }
   ],
   "source": [
    "df"
   ]
  },
  {
   "cell_type": "raw",
   "id": "3cb35309-e3ea-42d3-b7f5-712e5f1b6af6",
   "metadata": {},
   "source": [
    "Kemudian kode df yaitu berfungsi sebagai kode yang berisi data yang ada"
   ]
  },
  {
   "cell_type": "markdown",
   "id": "442ec8d4-64d6-4dac-99e8-cb86ca1fce2e",
   "metadata": {},
   "source": [
    "## Visualisasi data dalam bentuk diagram"
   ]
  },
  {
   "cell_type": "code",
   "execution_count": 11,
   "id": "ea0995fd-5211-429c-9655-c0f44ff5a50b",
   "metadata": {},
   "outputs": [
    {
     "data": {
      "image/png": "[encoded data removed]",
      "text/plain": [
       "<Figure size 800x600 with 1 Axes>"
      ]
     },
     "metadata": {},
     "output_type": "display_data"
    }
   ],
   "source": [
    "import matplotlib.pyplot as plt\n",
    "\n",
    "plt.figure(figsize=(8, 6))\n",
    "plt.hist(df['umur'], bins=10) \n",
    "plt.title('Distribusi Umur')\n",
    "plt.xlabel('Umur')\n",
    "plt.ylabel('Frekuensi')\n",
    "plt.show()"
   ]
  },
  {
   "cell_type": "markdown",
   "id": "d2cdd8e1-ec13-49b0-aa14-040dc526cc32",
   "metadata": {},
   "source": [
    "Jadi kode di atas menghasilkan diagram yang menunjukan hasi umur dari data yang terdapat pada kolom umur "
   ]
  },
  {
   "cell_type": "code",
   "execution_count": 9,
   "id": "c535609d-dd28-4c90-a954-c45dcd5aee97",
   "metadata": {},
   "outputs": [
    {
     "data": {
      "image/png": "[encoded data removed]",
      "text/plain": [
       "<Figure size 600x400 with 1 Axes>"
      ]
     },
     "metadata": {},
     "output_type": "display_data"
    }
   ],
   "source": [
    "plt.figure(figsize=(6, 4))\n",
    "sns.countplot(x='pendidikan', data=df)\n",
    "plt.title('Jumlah Individu Setiap Tingkat Pendidikan')\n",
    "plt.xlabel('Tingkat Pendidikan')\n",
    "plt.ylabel('Jumlah')\n",
    "plt.show()"
   ]
  },
  {
   "cell_type": "markdown",
   "id": "e0408695-bf92-48ac-8acc-3a1be2ea2b83",
   "metadata": {},
   "source": [
    "Kemudian ini yaitu kode yang menunjukkan diagram berapa banyak orang yang memiliki tingkat pendidikan dalam kolom pendidikan"
   ]
  },
  {
   "cell_type": "code",
   "execution_count": 10,
   "id": "93abb728-9f5f-4fa1-9c36-a099a34fc465",
   "metadata": {},
   "outputs": [
    {
     "data": {
      "image/png": "[encoded data removed]",
      "text/plain": [
       "<Figure size 400x300 with 1 Axes>"
      ]
     },
     "metadata": {},
     "output_type": "display_data"
    }
   ],
   "source": [
    "import matplotlib.pyplot as plt\n",
    "\n",
    "pendidikan_counts = df['pendidikan'].value_counts().head(2)\n",
    "plt.figure(figsize=(4, 3))\n",
    "plt.pie(pendidikan_counts.values, labels=pendidikan_counts.index, autopct='%1.1f%%')\n",
    "plt.title('Dua Tingkat Pendidikan Teratas')\n",
    "plt.show()"
   ]
  },
  {
   "cell_type": "markdown",
   "id": "d02e4407-4c48-43ff-be48-3de54b66c091",
   "metadata": {},
   "source": [
    "Dan terakhir ini menunjukan kode yang menunjukan diagram yang menghitung dua tingkat pendidikan yang sering muncul dalam kolom pendidikan"
   ]
  }
 ],
 "metadata": {
  "kernelspec": {
   "display_name": "Python 3 (ipykernel)",
   "language": "python",
   "name": "python3"
  },
  "language_info": {
   "codemirror_mode": {
    "name": "ipython",
    "version": 3
   },
   "file_extension": ".py",
   "mimetype": "text/x-python",
   "name": "python",
   "nbconvert_exporter": "python",
   "pygments_lexer": "ipython3",
   "version": "3.12.7"
  }
 },
 "nbformat": 4,
 "nbformat_minor": 5
}
